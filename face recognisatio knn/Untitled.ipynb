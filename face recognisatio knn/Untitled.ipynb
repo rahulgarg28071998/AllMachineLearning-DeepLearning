{
 "cells": [
  {
   "cell_type": "code",
   "execution_count": 1,
   "metadata": {},
   "outputs": [
    {
     "ename": "ModuleNotFoundError",
     "evalue": "No module named 'cv2'",
     "output_type": "error",
     "traceback": [
      "\u001b[1;31m---------------------------------------------------------------------------\u001b[0m",
      "\u001b[1;31mModuleNotFoundError\u001b[0m                       Traceback (most recent call last)",
      "\u001b[1;32m<ipython-input-1-c8ec22b3e787>\u001b[0m in \u001b[0;36m<module>\u001b[1;34m\u001b[0m\n\u001b[1;32m----> 1\u001b[1;33m \u001b[1;32mimport\u001b[0m \u001b[0mcv2\u001b[0m\u001b[1;33m\u001b[0m\u001b[1;33m\u001b[0m\u001b[0m\n\u001b[0m",
      "\u001b[1;31mModuleNotFoundError\u001b[0m: No module named 'cv2'"
     ]
    }
   ],
   "source": [
    "import cv2"
   ]
  },
  {
   "cell_type": "code",
   "execution_count": null,
   "metadata": {},
   "outputs": [],
   "source": [
    "import cv2\n",
    "import numpy as np \n",
    "\n",
    "cap = cv2.VideoCapture(0)\n",
    "face_cascade = cv2.CascadeClassifier(\"haarcascade_frontalface_alt.xml\")\n",
    "\n",
    "skip = 0\n",
    "face_data = []\n",
    "dataset_path = \"./face_dataset/\"\n",
    "\n",
    "file_name = input(\"Enter the name of person : \")\n",
    "\n",
    "\n",
    "while True:\n",
    "\tret,frame = cap.read()\n",
    "\n",
    "\tgray_frame = cv2.cvtColor(frame,cv2.COLOR_BGR2GRAY)\n",
    "\n",
    "\tif ret == False:\n",
    "\t\tcontinue\n",
    "\n",
    "\tfaces = face_cascade.detectMultiScale(gray_frame,1.3,5)\n",
    "\tif len(faces) == 0:\n",
    "\t\tcontinue\n",
    "\n",
    "\tk = 1\n",
    "\n",
    "\tfaces = sorted(faces, key = lambda x : x[2]*x[3] , reverse = True)\n",
    "\n",
    "\tskip += 1\n",
    "\n",
    "\tfor face in faces[:1]:\n",
    "\t\tx,y,w,h = face\n",
    "\n",
    "\t\toffset = 5\n",
    "\t\tface_offset = frame[y-offset:y+h+offset,x-offset:x+w+offset]\n",
    "\t\tface_selection = cv2.resize(face_offset,(100,100))\n",
    "\n",
    "\t\tif skip % 10 == 0:\n",
    "\t\t\tface_data.append(face_selection)\n",
    "\t\t\tprint (len(face_data))\n",
    "\n",
    "\n",
    "\t\tcv2.imshow(str(k), face_selection)\n",
    "\t\tk += 1\n",
    "\t\t\n",
    "\t\tcv2.rectangle(frame,(x,y),(x+w,y+h),(0,255,0),2)\n",
    "\n",
    "\tcv2.imshow(\"faces\",frame)\n",
    "\n",
    "\tkey_pressed = cv2.waitKey(1) & 0xFF\n",
    "\tif key_pressed == ord('q'):\n",
    "\t\tbreak\n",
    "\n",
    "face_data = np.array(face_data)\n",
    "face_data = face_data.reshape((face_data.shape[0], -1))\n",
    "print (face_data.shape)\n",
    "\n",
    "\n",
    "np.save(dataset_path + file_name, face_data)\n",
    "print (\"Dataset saved at : {}\".format(dataset_path + file_name + '.npy'))\n",
    "\n",
    "cap.release()\n",
    "cv2.destroyAllWindows()"
   ]
  },
  {
   "cell_type": "code",
   "execution_count": null,
   "metadata": {},
   "outputs": [],
   "source": []
  }
 ],
 "metadata": {
  "kernelspec": {
   "display_name": "Python 3",
   "language": "python",
   "name": "python3"
  },
  "language_info": {
   "codemirror_mode": {
    "name": "ipython",
    "version": 3
   },
   "file_extension": ".py",
   "mimetype": "text/x-python",
   "name": "python",
   "nbconvert_exporter": "python",
   "pygments_lexer": "ipython3",
   "version": "3.7.1"
  }
 },
 "nbformat": 4,
 "nbformat_minor": 2
}
