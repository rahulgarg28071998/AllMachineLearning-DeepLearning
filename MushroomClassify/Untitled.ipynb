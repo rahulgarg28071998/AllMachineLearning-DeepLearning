{
 "cells": [
  {
   "cell_type": "code",
   "execution_count": 8,
   "metadata": {},
   "outputs": [
    {
     "name": "stdout",
     "output_type": "stream",
     "text": [
      "1\n",
      "3 10\n",
      "True\n",
      "True\n",
      "True\n",
      "True\n",
      "True\n",
      "True\n",
      "9\n",
      "True\n",
      "\n"
     ]
    }
   ],
   "source": [
    "import math\n",
    "def isPrime(num):\n",
    "    \n",
    "    for i in range(2,int(math.sqrt(num))):\n",
    "        print(num)\n",
    "        if(num%i==0):\n",
    "            return False\n",
    "        \n",
    "    return True\n",
    "\n",
    "def sieve(low, high):\n",
    "    for i in range(low,high):\n",
    "        print(isPrime(i))\n",
    "            \n",
    "\n",
    "\n",
    "t = int(input())\n",
    "for i in range(t):\n",
    "\ta,b = input().split()[:2]\n",
    "\ta = int(a)\n",
    "\tb = int(b)\n",
    "\tif a >= b:\n",
    "\t\ta,b = b,a\n",
    "\tsieve(a,b)\n",
    "\tprint()"
   ]
  },
  {
   "cell_type": "code",
   "execution_count": null,
   "metadata": {},
   "outputs": [],
   "source": []
  },
  {
   "cell_type": "code",
   "execution_count": null,
   "metadata": {},
   "outputs": [],
   "source": []
  },
  {
   "cell_type": "code",
   "execution_count": null,
   "metadata": {},
   "outputs": [],
   "source": []
  }
 ],
 "metadata": {
  "kernelspec": {
   "display_name": "Python 3",
   "language": "python",
   "name": "python3"
  },
  "language_info": {
   "codemirror_mode": {
    "name": "ipython",
    "version": 3
   },
   "file_extension": ".py",
   "mimetype": "text/x-python",
   "name": "python",
   "nbconvert_exporter": "python",
   "pygments_lexer": "ipython3",
   "version": "3.6.7"
  }
 },
 "nbformat": 4,
 "nbformat_minor": 2
}
