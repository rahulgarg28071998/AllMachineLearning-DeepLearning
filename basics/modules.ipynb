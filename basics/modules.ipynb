{
 "cells": [
  {
   "cell_type": "markdown",
   "metadata": {},
   "source": [
    "### modules"
   ]
  },
  {
   "cell_type": "code",
   "execution_count": 1,
   "metadata": {},
   "outputs": [
    {
     "name": "stdout",
     "output_type": "stream",
     "text": [
      "362880\n"
     ]
    }
   ],
   "source": [
    "from math import factorial as fact\n",
    "\n",
    "print(fact(9))"
   ]
  },
  {
   "cell_type": "code",
   "execution_count": 11,
   "metadata": {},
   "outputs": [
    {
     "name": "stdout",
     "output_type": "stream",
     "text": [
      "7\n",
      "6\n",
      "1.0\n",
      "4.0\n",
      "3.141592653589793 inf -inf\n",
      "27\n"
     ]
    }
   ],
   "source": [
    "import math\n",
    "print(math.floor(15/2))\n",
    "print(math.gcd(12,6))\n",
    "\n",
    "print(math.log(math.e))\n",
    "print(math.log(16,2))\n",
    "\n",
    "print(math.pi,math.inf,-math.inf)\n",
    "\n",
    "print(sum([1,3,4,5,6,8]))\n",
    "    #sum,max.min"
   ]
  },
  {
   "cell_type": "code",
   "execution_count": 13,
   "metadata": {},
   "outputs": [
    {
     "name": "stdout",
     "output_type": "stream",
     "text": [
      "['C:\\\\Users\\\\RAHUL GARG\\\\Anaconda3\\\\lib\\\\site-packages\\\\ipykernel_launcher.py', '-f', 'C:\\\\Users\\\\RAHUL GARG\\\\AppData\\\\Roaming\\\\jupyter\\\\runtime\\\\kernel-f0d7e448-7b1e-4981-b05c-d696bbf9a260.json']\n"
     ]
    }
   ],
   "source": [
    "import sys\n",
    "def show():\n",
    "    print(sys.argv)\n",
    "    \n",
    "show()"
   ]
  },
  {
   "cell_type": "code",
   "execution_count": 20,
   "metadata": {},
   "outputs": [
    {
     "name": "stdout",
     "output_type": "stream",
     "text": [
      "3.7.1 (default, Dec 10 2018, 22:54:23) [MSC v.1915 64 bit (AMD64)]\n",
      "9223372036854775807\n",
      "<ipykernel.iostream.OutStream object at 0x0000025D7BB03240>\n",
      "<_io.TextIOWrapper name='<stdin>' mode='r' encoding='cp1252'>\n"
     ]
    }
   ],
   "source": [
    "print(sys.version)\n",
    "#print(sys.path)\n",
    "print(sys.maxsize)\n",
    "print(sys.stdout)\n",
    "print(sys.stdin)"
   ]
  },
  {
   "cell_type": "code",
   "execution_count": null,
   "metadata": {},
   "outputs": [],
   "source": [
    "__name__=__main__#when in module\n",
    "__name__=module name #when module is imported"
   ]
  }
 ],
 "metadata": {
  "kernelspec": {
   "display_name": "Python 3",
   "language": "python",
   "name": "python3"
  },
  "language_info": {
   "codemirror_mode": {
    "name": "ipython",
    "version": 3
   },
   "file_extension": ".py",
   "mimetype": "text/x-python",
   "name": "python",
   "nbconvert_exporter": "python",
   "pygments_lexer": "ipython3",
   "version": "3.7.1"
  }
 },
 "nbformat": 4,
 "nbformat_minor": 2
}
