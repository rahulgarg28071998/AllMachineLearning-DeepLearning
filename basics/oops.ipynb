{
 "cells": [
  {
   "cell_type": "code",
   "execution_count": 3,
   "metadata": {},
   "outputs": [
    {
     "name": "stdout",
     "output_type": "stream",
     "text": [
      "<class '__main__.Person'>\n"
     ]
    }
   ],
   "source": [
    "class Person():\n",
    "    pass\n",
    "p = Person()\n",
    "print(type(p))"
   ]
  },
  {
   "cell_type": "code",
   "execution_count": 125,
   "metadata": {},
   "outputs": [
    {
     "name": "stdout",
     "output_type": "stream",
     "text": [
      "hello rahul\n",
      "rahul mait\n"
     ]
    }
   ],
   "source": [
    "class Person():\n",
    "    #static\n",
    "    nationality = \"Indian\"\n",
    "    def __init__(self,name,clg):\n",
    "        \"\"\"this is constructor\"\"\"\n",
    "        self.name = name\n",
    "        self.clg = clg\n",
    "    #__func make function private\n",
    "    def sayHi(self,name):\n",
    "        print(\"hello\",name)\n",
    "    \n",
    "    def introduce(self):\n",
    "        print(self.name+\" \"+self.clg)\n",
    "    \n",
    "p = Person(\"rohan\",\"sps\")\n",
    "p.sayHi(\"rahul\")\n",
    "\n",
    "p1 =Person(\"rahul\",\"mait\")\n",
    "p1.introduce()\n",
    "Person?"
   ]
  },
  {
   "cell_type": "code",
   "execution_count": null,
   "metadata": {},
   "outputs": [],
   "source": []
  },
  {
   "cell_type": "code",
   "execution_count": null,
   "metadata": {},
   "outputs": [],
   "source": []
  },
  {
   "cell_type": "code",
   "execution_count": null,
   "metadata": {},
   "outputs": [],
   "source": []
  },
  {
   "cell_type": "code",
   "execution_count": null,
   "metadata": {},
   "outputs": [],
   "source": []
  }
 ],
 "metadata": {
  "kernelspec": {
   "display_name": "Python 3",
   "language": "python",
   "name": "python3"
  },
  "language_info": {
   "codemirror_mode": {
    "name": "ipython",
    "version": 3
   },
   "file_extension": ".py",
   "mimetype": "text/x-python",
   "name": "python",
   "nbconvert_exporter": "python",
   "pygments_lexer": "ipython3",
   "version": "3.7.1"
  }
 },
 "nbformat": 4,
 "nbformat_minor": 2
}
