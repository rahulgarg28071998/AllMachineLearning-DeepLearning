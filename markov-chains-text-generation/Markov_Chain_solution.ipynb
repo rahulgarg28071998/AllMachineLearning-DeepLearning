{
 "cells": [
  {
   "cell_type": "markdown",
   "metadata": {},
   "source": [
    "### Markov Chains\n",
    "### Solution"
   ]
  },
  {
   "cell_type": "code",
   "execution_count": 91,
   "metadata": {},
   "outputs": [],
   "source": [
    "import numpy as np"
   ]
  },
  {
   "cell_type": "markdown",
   "metadata": {},
   "source": [
    "### Data Preparation"
   ]
  },
  {
   "cell_type": "code",
   "execution_count": 194,
   "metadata": {},
   "outputs": [],
   "source": [
    "def load_text(filename):\n",
    "    #loads a text file, and returns text\n",
    "    with open(filename) as f:\n",
    "        return f.read()\n",
    "\n",
    "text1 = load_text('./Data_Rap/lyrics1.txt')\n",
    "text2 = load_text('./Data_Rap/lyrics2.txt')"
   ]
  },
  {
   "cell_type": "code",
   "execution_count": 195,
   "metadata": {},
   "outputs": [],
   "source": [
    "def combine_text(*docs):\n",
    "    \"\"\"combines multiple text files into single data string\"\"\"\n",
    "    data = \"\"\n",
    "    for doc in docs:\n",
    "        data += ' '.join([word.lower() for word in doc.split('\\n')])\n",
    "    return data"
   ]
  },
  {
   "cell_type": "code",
   "execution_count": 196,
   "metadata": {},
   "outputs": [],
   "source": [
    "data = prepare_data(text1,text2)"
   ]
  },
  {
   "cell_type": "markdown",
   "metadata": {},
   "source": [
    "### Markov Chain "
   ]
  },
  {
   "cell_type": "code",
   "execution_count": 95,
   "metadata": {},
   "outputs": [],
   "source": [
    "def generateTransitionTable(data,order=4):\n",
    "    \"\"\"Creates a Transition Table, which stores the ctx-nextletter frequency, in nested dictionary\"\"\"\n",
    "    T = {}\n",
    "    for ix in range(len(data)-order):\n",
    "        #get the current 'order' sized window to create ctx-nextletter pair in Transtion Table\n",
    "        ctx = data[ix:ix+order]\n",
    "        \n",
    "        #get the next letter in seqence\n",
    "        next_letter = data[ix+order]\n",
    "\n",
    "        if T.get(ctx) is None:\n",
    "            #if the ctx doesn't exist in transition table, then create one.\n",
    "            T[ctx] = {}\n",
    "            T[ctx][next_letter] = 1\n",
    "        else:\n",
    "            # if transition pair ctx-next_letter doesn't exist, create one otherwise update the old frequency by1\n",
    "            if T[ctx].get(next_letter) is None:\n",
    "                T[ctx][next_letter] = 1\n",
    "            else:\n",
    "                T[ctx][next_letter] += 1\n",
    "                \n",
    "        # Convert Numbers into Probabilities(scale everything between 0 to 1)\n",
    "                \n",
    "    return T"
   ]
  },
  {
   "cell_type": "code",
   "execution_count": 96,
   "metadata": {},
   "outputs": [],
   "source": [
    "def convertFreqIntoProb(T):\n",
    "    \"\"\"Converts Frequencies into Probabilities\"\"\"\n",
    "    for kx in T.keys():\n",
    "        s = float(sum(T[kx].values()))\n",
    "        for k in T[kx].keys():\n",
    "            T[kx][k] = T[kx][k]/s    \n",
    "            \n",
    "    return T"
   ]
  },
  {
   "cell_type": "code",
   "execution_count": 198,
   "metadata": {},
   "outputs": [],
   "source": [
    "def trainMarkovChain(data):\n",
    "    T = generateTransitionTable(data)\n",
    "    T = convertFreqIntoProb(T)\n",
    "    return T\n",
    "\n",
    "T = trainMarkovChain(data)"
   ]
  },
  {
   "cell_type": "markdown",
   "metadata": {},
   "source": [
    "### Sampling at Test Time"
   ]
  },
  {
   "cell_type": "code",
   "execution_count": 199,
   "metadata": {},
   "outputs": [],
   "source": [
    "def sample_next(ctx,T):\n",
    "    \"\"\"Samples a new character based on past context, and prob distribution defined in T[ctx]\"\"\"\n",
    "    possible = T.get(ctx)\n",
    "    if possible is None:\n",
    "        return \" \"\n",
    "    possible_letters = list(possible.keys())\n",
    "    #Sampling according to the probability distribution\n",
    "    keys_probs = [possible[kx] for kx in possible_letters]\n",
    "    return np.random.choice(possible_letters,p=keys_probs)\n"
   ]
  },
  {
   "cell_type": "markdown",
   "metadata": {},
   "source": [
    "### Generate Text"
   ]
  },
  {
   "cell_type": "code",
   "execution_count": 224,
   "metadata": {},
   "outputs": [],
   "source": [
    "def generateText(ctx,maxLen=500):\n",
    "    np.random.seed(1)\n",
    "    sentence = '' + ctx\n",
    "    order = 4\n",
    "    for ix in range(maxLen):\n",
    "        next_letter = sample_next(ctx,T)\n",
    "        sentence += next_letter\n",
    "        ctx = sentence[-order:]\n",
    "    \n",
    "    return sentence"
   ]
  },
  {
   "cell_type": "markdown",
   "metadata": {},
   "source": [
    "### Test your results "
   ]
  },
  {
   "cell_type": "code",
   "execution_count": 225,
   "metadata": {
    "scrolled": false
   },
   "outputs": [],
   "source": [
    "sentence = generateText(\"sing\")"
   ]
  },
  {
   "cell_type": "code",
   "execution_count": 226,
   "metadata": {},
   "outputs": [
    {
     "name": "stdout",
     "output_type": "stream",
     "text": [
      "sing but i'm realized it'll be indecent i'm gun from the fuckin' when think i'm everythinks theâ€”)  i still with) this chokehold on thing in you and i knock nod to snap any verse as rappidy ramen how can't gonna know what if he looked like it's not then paint to one homage, pupil in floating me like where just what i scream well, to go easy one chasin' and pay hone it with it lace long off it (six mind that i do where wack it occurs too 'cause that i probably ready to you off! screw the ball high w\n"
     ]
    }
   ],
   "source": [
    "print(sentence)"
   ]
  },
  {
   "cell_type": "code",
   "execution_count": null,
   "metadata": {},
   "outputs": [],
   "source": []
  }
 ],
 "metadata": {
  "kernelspec": {
   "display_name": "Python 3",
   "language": "python",
   "name": "python3"
  },
  "language_info": {
   "codemirror_mode": {
    "name": "ipython",
    "version": 3
   },
   "file_extension": ".py",
   "mimetype": "text/x-python",
   "name": "python",
   "nbconvert_exporter": "python",
   "pygments_lexer": "ipython3",
   "version": "3.6.1"
  }
 },
 "nbformat": 4,
 "nbformat_minor": 2
}
