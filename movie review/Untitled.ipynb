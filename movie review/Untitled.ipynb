{
 "cells": [
  {
   "cell_type": "code",
   "execution_count": 1,
   "metadata": {},
   "outputs": [
    {
     "name": "stderr",
     "output_type": "stream",
     "text": [
      "Using TensorFlow backend.\n"
     ]
    }
   ],
   "source": [
    "from keras.preprocessing.text import Tokenizer\n",
    "from keras.preprocessing.sequence import pad_sequences\n",
    "from keras.models import Sequential\n",
    "from keras.layers import Dense, Flatten, LSTM, Conv1D, MaxPooling1D, Dropout, Activation\n",
    "from keras.layers.embeddings import Embedding\n",
    "from keras.utils import to_categorical"
   ]
  },
  {
   "cell_type": "code",
   "execution_count": 2,
   "metadata": {},
   "outputs": [],
   "source": [
    "import numpy as np\n",
    "import pandas as pd"
   ]
  },
  {
   "cell_type": "code",
   "execution_count": 4,
   "metadata": {},
   "outputs": [],
   "source": [
    "train = pd.read_csv(\"./Train.csv\")##.values\n",
    "test = pd.read_csv(\"./Test.csv\")##.values"
   ]
  },
  {
   "cell_type": "code",
   "execution_count": 5,
   "metadata": {},
   "outputs": [],
   "source": [
    "XT = train['review'].values\n",
    "Xt = test['review'].values\n",
    "YT = train['label'].values"
   ]
  },
  {
   "cell_type": "code",
   "execution_count": 6,
   "metadata": {},
   "outputs": [],
   "source": [
    "for i in range(YT.shape[0]) :\n",
    "    if YT[i]=='pos':\n",
    "        YT[i] = 1\n",
    "    else :\n",
    "        YT[i] = 0\n",
    "    "
   ]
  },
  {
   "cell_type": "code",
   "execution_count": 7,
   "metadata": {},
   "outputs": [
    {
     "data": {
      "text/plain": [
       "array([1, 1, 1, ..., 0, 1, 1], dtype=object)"
      ]
     },
     "execution_count": 7,
     "metadata": {},
     "output_type": "execute_result"
    }
   ],
   "source": [
    "YT"
   ]
  },
  {
   "cell_type": "code",
   "execution_count": 8,
   "metadata": {},
   "outputs": [
    {
     "name": "stdout",
     "output_type": "stream",
     "text": [
      "(40000,) (40000,)\n"
     ]
    }
   ],
   "source": [
    "print(XT.shape,YT.shape)"
   ]
  },
  {
   "cell_type": "code",
   "execution_count": 9,
   "metadata": {},
   "outputs": [],
   "source": [
    "vocabulary_size = 20000\n",
    "tokenizer = Tokenizer(num_words= vocabulary_size)\n",
    "tokenizer.fit_on_texts(XT)\n",
    "sequences = tokenizer.texts_to_sequences(XT)\n",
    "XT = pad_sequences(sequences, maxlen=50)"
   ]
  },
  {
   "cell_type": "code",
   "execution_count": 10,
   "metadata": {},
   "outputs": [],
   "source": [
    "sequences = tokenizer.texts_to_sequences(Xt)\n",
    "Xt = pad_sequences(sequences, maxlen=50)"
   ]
  },
  {
   "cell_type": "code",
   "execution_count": 11,
   "metadata": {},
   "outputs": [
    {
     "name": "stdout",
     "output_type": "stream",
     "text": [
      "_________________________________________________________________\n",
      "Layer (type)                 Output Shape              Param #   \n",
      "=================================================================\n",
      "embedding_1 (Embedding)      (None, 50, 100)           2000000   \n",
      "_________________________________________________________________\n",
      "lstm_1 (LSTM)                (None, 100)               80400     \n",
      "_________________________________________________________________\n",
      "dense_1 (Dense)              (None, 1)                 101       \n",
      "=================================================================\n",
      "Total params: 2,080,501\n",
      "Trainable params: 2,080,501\n",
      "Non-trainable params: 0\n",
      "_________________________________________________________________\n"
     ]
    }
   ],
   "source": [
    "model = Sequential()\n",
    "model.add(Embedding(20000, 100, input_length=50))\n",
    "model.add(LSTM(100, dropout=0.2, recurrent_dropout=0.2))\n",
    "model.add(Dense(1, activation='sigmoid'))\n",
    "model.compile(loss='binary_crossentropy', optimizer='adam', metrics=['accuracy'])\n",
    "model.summary()"
   ]
  },
  {
   "cell_type": "code",
   "execution_count": 14,
   "metadata": {
    "scrolled": false
   },
   "outputs": [
    {
     "name": "stdout",
     "output_type": "stream",
     "text": [
      "Train on 24000 samples, validate on 16000 samples\n",
      "Epoch 1/7\n",
      "24000/24000 [==============================] - 34s 1ms/step - loss: 0.2878 - acc: 0.8824 - val_loss: 0.4310 - val_acc: 0.8189\n",
      "Epoch 2/7\n",
      "24000/24000 [==============================] - 34s 1ms/step - loss: 0.2321 - acc: 0.9101 - val_loss: 0.4592 - val_acc: 0.8099\n",
      "Epoch 3/7\n",
      "24000/24000 [==============================] - 29s 1ms/step - loss: 0.1839 - acc: 0.9300 - val_loss: 0.5532 - val_acc: 0.8027\n",
      "Epoch 4/7\n",
      "24000/24000 [==============================] - 30s 1ms/step - loss: 0.1488 - acc: 0.9456 - val_loss: 0.6018 - val_acc: 0.8028\n",
      "Epoch 5/7\n",
      "24000/24000 [==============================] - 29s 1ms/step - loss: 0.1169 - acc: 0.9572 - val_loss: 0.6145 - val_acc: 0.7999\n",
      "Epoch 6/7\n",
      "24000/24000 [==============================] - 29s 1ms/step - loss: 0.0899 - acc: 0.9680 - val_loss: 0.7045 - val_acc: 0.7919\n",
      "Epoch 7/7\n",
      "24000/24000 [==============================] - 29s 1ms/step - loss: 0.0689 - acc: 0.9771 - val_loss: 0.8853 - val_acc: 0.7915\n"
     ]
    },
    {
     "data": {
      "text/plain": [
       "<keras.callbacks.History at 0x7f2f9c5a5518>"
      ]
     },
     "execution_count": 14,
     "metadata": {},
     "output_type": "execute_result"
    }
   ],
   "source": [
    "model.fit(XT,YT, validation_split=0.4,batch_size=128,epochs=7,shuffle = True)"
   ]
  },
  {
   "cell_type": "code",
   "execution_count": 27,
   "metadata": {},
   "outputs": [],
   "source": [
    "Yt = model.predict(Xt)"
   ]
  },
  {
   "cell_type": "code",
   "execution_count": 34,
   "metadata": {},
   "outputs": [
    {
     "data": {
      "text/plain": [
       "array([[3.696937e-02],\n",
       "       [3.245487e-01],\n",
       "       [5.645824e-04],\n",
       "       ...,\n",
       "       [9.994418e-01],\n",
       "       [9.891879e-01],\n",
       "       [7.778685e-02]], dtype=float32)"
      ]
     },
     "execution_count": 34,
     "metadata": {},
     "output_type": "execute_result"
    }
   ],
   "source": [
    "Yt"
   ]
  },
  {
   "cell_type": "code",
   "execution_count": 46,
   "metadata": {},
   "outputs": [],
   "source": [
    "Y = []\n",
    "for i in range(Yt.shape[0]) :\n",
    "    if Yt[i]>=0.5:\n",
    "        Y.append('pos')\n",
    "    else :\n",
    "        \n",
    "        Y.append('neg')"
   ]
  },
  {
   "cell_type": "code",
   "execution_count": 52,
   "metadata": {},
   "outputs": [
    {
     "data": {
      "text/plain": [
       "(10000, 1)"
      ]
     },
     "execution_count": 52,
     "metadata": {},
     "output_type": "execute_result"
    }
   ],
   "source": [
    "Yt.shape"
   ]
  },
  {
   "cell_type": "code",
   "execution_count": 50,
   "metadata": {},
   "outputs": [],
   "source": [
    "import csv\n",
    "with open('Sample_Submission.csv', 'w') as csvFile:\n",
    "    writer = csv.writer(csvFile)\n",
    "    m = Yt.shape[0]\n",
    "    writer.writerow([\"Id\",\"label\"])\n",
    "    for i in range(m):\n",
    "        \n",
    "        l = [i+1,Y[i]]\n",
    "        writer.writerow(l)\n",
    "    csvFile.close()"
   ]
  }
 ],
 "metadata": {
  "kernelspec": {
   "display_name": "Python 3",
   "language": "python",
   "name": "python3"
  },
  "language_info": {
   "codemirror_mode": {
    "name": "ipython",
    "version": 3
   },
   "file_extension": ".py",
   "mimetype": "text/x-python",
   "name": "python",
   "nbconvert_exporter": "python",
   "pygments_lexer": "ipython3",
   "version": "3.6.7"
  }
 },
 "nbformat": 4,
 "nbformat_minor": 2
}
