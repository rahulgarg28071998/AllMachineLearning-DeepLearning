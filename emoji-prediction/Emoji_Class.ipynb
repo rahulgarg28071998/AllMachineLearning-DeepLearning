{
 "cells": [
  {
   "cell_type": "code",
   "execution_count": 42,
   "metadata": {},
   "outputs": [],
   "source": [
    "import emoji\n"
   ]
  },
  {
   "cell_type": "code",
   "execution_count": 6,
   "metadata": {},
   "outputs": [
    {
     "name": "stdout",
     "output_type": "stream",
     "text": [
      "<class 'dict'>\n"
     ]
    }
   ],
   "source": [
    "print(type(emoji.UNICODE_EMOJI))"
   ]
  },
  {
   "cell_type": "code",
   "execution_count": 9,
   "metadata": {},
   "outputs": [
    {
     "name": "stdout",
     "output_type": "stream",
     "text": [
      "😠\n",
      "👌🏻\n"
     ]
    }
   ],
   "source": [
    "print(emoji.emojize(\":angry_face:\"))\n",
    "print(emoji.emojize(\":OK_hand_light_skin_tone:\"))"
   ]
  },
  {
   "cell_type": "code",
   "execution_count": 10,
   "metadata": {},
   "outputs": [],
   "source": [
    "#emoji.EMOJI_UNICODE"
   ]
  },
  {
   "cell_type": "code",
   "execution_count": 12,
   "metadata": {},
   "outputs": [],
   "source": [
    "import pandas as pd"
   ]
  },
  {
   "cell_type": "code",
   "execution_count": null,
   "metadata": {},
   "outputs": [],
   "source": []
  },
  {
   "cell_type": "code",
   "execution_count": 121,
   "metadata": {},
   "outputs": [],
   "source": [
    "data = pd.read_csv(\"train_emoji.csv\",header=None)"
   ]
  },
  {
   "cell_type": "code",
   "execution_count": 122,
   "metadata": {},
   "outputs": [
    {
     "data": {
      "text/html": [
       "<div>\n",
       "<style scoped>\n",
       "    .dataframe tbody tr th:only-of-type {\n",
       "        vertical-align: middle;\n",
       "    }\n",
       "\n",
       "    .dataframe tbody tr th {\n",
       "        vertical-align: top;\n",
       "    }\n",
       "\n",
       "    .dataframe thead th {\n",
       "        text-align: right;\n",
       "    }\n",
       "</style>\n",
       "<table border=\"1\" class=\"dataframe\">\n",
       "  <thead>\n",
       "    <tr style=\"text-align: right;\">\n",
       "      <th></th>\n",
       "      <th>0</th>\n",
       "      <th>1</th>\n",
       "      <th>2</th>\n",
       "      <th>3</th>\n",
       "    </tr>\n",
       "  </thead>\n",
       "  <tbody>\n",
       "    <tr>\n",
       "      <th>0</th>\n",
       "      <td>never talk to me again</td>\n",
       "      <td>3</td>\n",
       "      <td>NaN</td>\n",
       "      <td>NaN</td>\n",
       "    </tr>\n",
       "    <tr>\n",
       "      <th>1</th>\n",
       "      <td>I am proud of your achievements</td>\n",
       "      <td>2</td>\n",
       "      <td>NaN</td>\n",
       "      <td>NaN</td>\n",
       "    </tr>\n",
       "    <tr>\n",
       "      <th>2</th>\n",
       "      <td>It is the worst day in my life</td>\n",
       "      <td>3</td>\n",
       "      <td>NaN</td>\n",
       "      <td>NaN</td>\n",
       "    </tr>\n",
       "    <tr>\n",
       "      <th>3</th>\n",
       "      <td>Miss you so much</td>\n",
       "      <td>0</td>\n",
       "      <td>NaN</td>\n",
       "      <td>[0]</td>\n",
       "    </tr>\n",
       "    <tr>\n",
       "      <th>4</th>\n",
       "      <td>food is life</td>\n",
       "      <td>4</td>\n",
       "      <td>NaN</td>\n",
       "      <td>NaN</td>\n",
       "    </tr>\n",
       "    <tr>\n",
       "      <th>5</th>\n",
       "      <td>I love you mum</td>\n",
       "      <td>0</td>\n",
       "      <td>NaN</td>\n",
       "      <td>NaN</td>\n",
       "    </tr>\n",
       "    <tr>\n",
       "      <th>6</th>\n",
       "      <td>Stop saying bullshit</td>\n",
       "      <td>3</td>\n",
       "      <td>NaN</td>\n",
       "      <td>NaN</td>\n",
       "    </tr>\n",
       "    <tr>\n",
       "      <th>7</th>\n",
       "      <td>congratulations on your acceptance</td>\n",
       "      <td>2</td>\n",
       "      <td>NaN</td>\n",
       "      <td>NaN</td>\n",
       "    </tr>\n",
       "    <tr>\n",
       "      <th>8</th>\n",
       "      <td>The assignment is too long</td>\n",
       "      <td>3</td>\n",
       "      <td>NaN</td>\n",
       "      <td>NaN</td>\n",
       "    </tr>\n",
       "    <tr>\n",
       "      <th>9</th>\n",
       "      <td>I want to go play</td>\n",
       "      <td>1</td>\n",
       "      <td>NaN</td>\n",
       "      <td>[3]</td>\n",
       "    </tr>\n",
       "  </tbody>\n",
       "</table>\n",
       "</div>"
      ],
      "text/plain": [
       "                                    0  1   2     3\n",
       "0              never talk to me again  3 NaN   NaN\n",
       "1     I am proud of your achievements  2 NaN   NaN\n",
       "2      It is the worst day in my life  3 NaN   NaN\n",
       "3                    Miss you so much  0 NaN   [0]\n",
       "4                        food is life  4 NaN   NaN\n",
       "5                      I love you mum  0 NaN   NaN\n",
       "6                Stop saying bullshit  3 NaN   NaN\n",
       "7  congratulations on your acceptance  2 NaN   NaN\n",
       "8         The assignment is too long   3 NaN   NaN\n",
       "9                   I want to go play  1 NaN   [3]"
      ]
     },
     "execution_count": 122,
     "metadata": {},
     "output_type": "execute_result"
    }
   ],
   "source": [
    "data.head(n=10)"
   ]
  },
  {
   "cell_type": "code",
   "execution_count": 123,
   "metadata": {},
   "outputs": [],
   "source": [
    "emoji_dict = {\n",
    "    0:\":beating_heart:\",\n",
    "    1:\":baseball:\",\n",
    "    2:\":beaming_face_with_smiling_eyes:\",\n",
    "    3:\":disappointed_face:\",\n",
    "    4:\":fork_and_knife:\"    \n",
    "}"
   ]
  },
  {
   "cell_type": "code",
   "execution_count": 124,
   "metadata": {},
   "outputs": [
    {
     "name": "stdout",
     "output_type": "stream",
     "text": [
      "💓\n",
      "⚾\n",
      "😁\n",
      "😞\n",
      "🍴\n"
     ]
    }
   ],
   "source": [
    "for ix in emoji_dict.values():\n",
    "    print(emoji.emojize(ix))"
   ]
  },
  {
   "cell_type": "code",
   "execution_count": 168,
   "metadata": {},
   "outputs": [],
   "source": [
    "X_train = data[0]\n",
    "Y_train = data[1]"
   ]
  },
  {
   "cell_type": "code",
   "execution_count": 169,
   "metadata": {},
   "outputs": [
    {
     "name": "stdout",
     "output_type": "stream",
     "text": [
      "(132,)\n"
     ]
    }
   ],
   "source": [
    "print(X_train.shape)"
   ]
  },
  {
   "cell_type": "code",
   "execution_count": 170,
   "metadata": {},
   "outputs": [
    {
     "name": "stdout",
     "output_type": "stream",
     "text": [
      "(132,)\n"
     ]
    }
   ],
   "source": [
    "print(Y_train.shape)"
   ]
  },
  {
   "cell_type": "code",
   "execution_count": 171,
   "metadata": {},
   "outputs": [
    {
     "name": "stdout",
     "output_type": "stream",
     "text": [
      "['never', 'talk', 'to', 'me', 'again']\n"
     ]
    }
   ],
   "source": [
    "print(X_train[0])"
   ]
  },
  {
   "cell_type": "code",
   "execution_count": 172,
   "metadata": {},
   "outputs": [
    {
     "name": "stdout",
     "output_type": "stream",
     "text": [
      "😞\n"
     ]
    }
   ],
   "source": [
    "print(emoji.emojize(emoji_dict[Y_train[0]]))"
   ]
  },
  {
   "cell_type": "code",
   "execution_count": 173,
   "metadata": {},
   "outputs": [
    {
     "ename": "AttributeError",
     "evalue": "'list' object has no attribute 'lower'",
     "output_type": "error",
     "traceback": [
      "\u001b[1;31m---------------------------------------------------------------------------\u001b[0m",
      "\u001b[1;31mAttributeError\u001b[0m                            Traceback (most recent call last)",
      "\u001b[1;32m<ipython-input-173-6a6960fc15c5>\u001b[0m in \u001b[0;36m<module>\u001b[1;34m()\u001b[0m\n\u001b[0;32m      1\u001b[0m \u001b[1;31m#convert every sentence into a list of words\u001b[0m\u001b[1;33m\u001b[0m\u001b[1;33m\u001b[0m\u001b[0m\n\u001b[0;32m      2\u001b[0m \u001b[1;32mfor\u001b[0m \u001b[0mix\u001b[0m \u001b[1;32min\u001b[0m \u001b[0mrange\u001b[0m\u001b[1;33m(\u001b[0m\u001b[1;36m132\u001b[0m\u001b[1;33m)\u001b[0m\u001b[1;33m:\u001b[0m\u001b[1;33m\u001b[0m\u001b[0m\n\u001b[1;32m----> 3\u001b[1;33m     \u001b[0mX_train\u001b[0m\u001b[1;33m[\u001b[0m\u001b[0mix\u001b[0m\u001b[1;33m]\u001b[0m \u001b[1;33m=\u001b[0m \u001b[0mX_train\u001b[0m\u001b[1;33m[\u001b[0m\u001b[0mix\u001b[0m\u001b[1;33m]\u001b[0m\u001b[1;33m.\u001b[0m\u001b[0mlower\u001b[0m\u001b[1;33m(\u001b[0m\u001b[1;33m)\u001b[0m\u001b[1;33m.\u001b[0m\u001b[0msplit\u001b[0m\u001b[1;33m(\u001b[0m\u001b[1;33m)\u001b[0m\u001b[1;33m\u001b[0m\u001b[0m\n\u001b[0m",
      "\u001b[1;31mAttributeError\u001b[0m: 'list' object has no attribute 'lower'"
     ]
    }
   ],
   "source": [
    "#convert every sentence into a list of words\n",
    "for ix in range(132):\n",
    "    X_train[ix] = X_train[ix].lower().split()"
   ]
  },
  {
   "cell_type": "code",
   "execution_count": 174,
   "metadata": {},
   "outputs": [
    {
     "name": "stdout",
     "output_type": "stream",
     "text": [
      "['i', 'am', 'proud', 'of', 'your', 'achievements']\n"
     ]
    }
   ],
   "source": [
    "print(X_train[1])"
   ]
  },
  {
   "cell_type": "code",
   "execution_count": 175,
   "metadata": {},
   "outputs": [],
   "source": [
    "def read_glove_vecs(glove_file):\n",
    "    with open(glove_file, 'r',encoding='utf8') as f:\n",
    "        words = set()\n",
    "        word_to_vec_map = {}\n",
    "        for line in f:\n",
    "            line = line.strip().split()\n",
    "            curr_word = line[0]\n",
    "            words.add(curr_word)\n",
    "            word_to_vec_map[curr_word] = np.array(line[1:], dtype=np.float64)\n",
    "        \n",
    "        i = 1\n",
    "        words_to_index = {}\n",
    "        index_to_words = {}\n",
    "        for w in sorted(words):\n",
    "            words_to_index[w] = i\n",
    "            index_to_words[i] = w\n",
    "            i = i + 1\n",
    "    return words_to_index, index_to_words, word_to_vec_map\n"
   ]
  },
  {
   "cell_type": "code",
   "execution_count": 176,
   "metadata": {},
   "outputs": [],
   "source": [
    "import numpy as np\n",
    "words_to_index, index_to_words, word_to_vec_map = read_glove_vecs(\"glove6b50dtxt/glove.6B.50d.txt\")"
   ]
  },
  {
   "cell_type": "code",
   "execution_count": 177,
   "metadata": {},
   "outputs": [
    {
     "data": {
      "text/plain": [
       "(50,)"
      ]
     },
     "execution_count": 177,
     "metadata": {},
     "output_type": "execute_result"
    }
   ],
   "source": [
    "word_to_vec_map[\"happy\"].shape"
   ]
  },
  {
   "cell_type": "code",
   "execution_count": 178,
   "metadata": {},
   "outputs": [],
   "source": [
    "def avg_vector(words):\n",
    "    \n",
    "    ans = word_to_vec_map[words[0]]\n",
    "   # print(ans)\n",
    "    for i in range(1,len(words)):\n",
    "        ans = np.add(ans,word_to_vec_map[words[i]])\n",
    "    ans = ans/float(len(words))\n",
    "    return ans    "
   ]
  },
  {
   "cell_type": "code",
   "execution_count": 179,
   "metadata": {},
   "outputs": [],
   "source": [
    "ans = avg_vector(X_train[0])"
   ]
  },
  {
   "cell_type": "code",
   "execution_count": 180,
   "metadata": {},
   "outputs": [],
   "source": [
    "X_numbers = np.zeros((132,50))"
   ]
  },
  {
   "cell_type": "code",
   "execution_count": 181,
   "metadata": {},
   "outputs": [],
   "source": [
    "for i in range(X_train.shape[0]):\n",
    "    X_numbers[i] = avg_vector(X_train[i])"
   ]
  },
  {
   "cell_type": "code",
   "execution_count": 182,
   "metadata": {},
   "outputs": [
    {
     "name": "stdout",
     "output_type": "stream",
     "text": [
      "(132, 50)\n",
      "[[ 0.0971846   0.0174374   0.052843   ... -0.2522034  -0.2197784\n",
      "   0.307606  ]\n",
      " [ 0.00563117  0.59711333 -0.13939717 ... -0.06701233 -0.025773\n",
      "   0.32180167]\n",
      " [ 0.27343125  0.33763875 -0.33053875 ... -0.335001    0.06524875\n",
      "  -0.04257963]\n",
      " ...\n",
      " [ 0.29220562  0.1533622  -0.015246   ...  0.032272    0.1313342\n",
      "   0.472114  ]\n",
      " [-0.00701397  0.54196333 -0.19225433 ... -0.80106333 -0.20057967\n",
      "   0.78087   ]\n",
      " [-0.1149985   0.6452325  -0.39727    ...  0.142175   -0.2057708\n",
      "   0.5231    ]]\n"
     ]
    }
   ],
   "source": [
    "print(X_numbers.shape)\n",
    "print(X_numbers)"
   ]
  },
  {
   "cell_type": "code",
   "execution_count": 183,
   "metadata": {},
   "outputs": [],
   "source": [
    "from keras.models import Sequential\n",
    "from keras.layers import Dense,Input,Activation\n",
    "from keras.utils import to_categorical\n"
   ]
  },
  {
   "cell_type": "code",
   "execution_count": 224,
   "metadata": {},
   "outputs": [],
   "source": [
    "model = Sequential()\n",
    "# Build neural network\n",
    "model.add(Dense(10, activation='relu', input_shape=(50,)))\n",
    "model.add(Dense(5, activation='softmax'))"
   ]
  },
  {
   "cell_type": "code",
   "execution_count": 225,
   "metadata": {},
   "outputs": [],
   "source": [
    "model.compile(optimizer='adam',\n",
    "              loss='categorical_crossentropy',\n",
    "              metrics=['accuracy'])"
   ]
  },
  {
   "cell_type": "code",
   "execution_count": 226,
   "metadata": {},
   "outputs": [
    {
     "name": "stdout",
     "output_type": "stream",
     "text": [
      "(132,)\n",
      "(132, 5)\n"
     ]
    }
   ],
   "source": [
    "print(Y_train.shape)\n",
    "Y_onehot = to_categorical(Y_train)\n",
    "print(Y_onehot.shape)"
   ]
  },
  {
   "cell_type": "code",
   "execution_count": 227,
   "metadata": {},
   "outputs": [
    {
     "name": "stdout",
     "output_type": "stream",
     "text": [
      "3\n",
      "[0. 0. 0. 1. 0.]\n"
     ]
    }
   ],
   "source": [
    "print(Y_train[0])\n",
    "print(Y_onehot[0])"
   ]
  },
  {
   "cell_type": "code",
   "execution_count": 228,
   "metadata": {},
   "outputs": [
    {
     "name": "stdout",
     "output_type": "stream",
     "text": [
      "Epoch 1/100\n",
      "132/132 [==============================] - 1s 8ms/step - loss: 1.6152 - acc: 0.2727\n",
      "Epoch 2/100\n",
      "132/132 [==============================] - 0s 147us/step - loss: 1.5821 - acc: 0.2727\n",
      "Epoch 3/100\n",
      "132/132 [==============================] - 0s 128us/step - loss: 1.5582 - acc: 0.2879\n",
      "Epoch 4/100\n",
      "132/132 [==============================] - 0s 136us/step - loss: 1.5366 - acc: 0.3030\n",
      "Epoch 5/100\n",
      "132/132 [==============================] - 0s 212us/step - loss: 1.5166 - acc: 0.3182\n",
      "Epoch 6/100\n",
      "132/132 [==============================] - 0s 174us/step - loss: 1.5012 - acc: 0.3182\n",
      "Epoch 7/100\n",
      "132/132 [==============================] - 0s 98us/step - loss: 1.4876 - acc: 0.3333\n",
      "Epoch 8/100\n",
      "132/132 [==============================] - 0s 113us/step - loss: 1.4751 - acc: 0.3636\n",
      "Epoch 9/100\n",
      "132/132 [==============================] - 0s 106us/step - loss: 1.4663 - acc: 0.3864\n",
      "Epoch 10/100\n",
      "132/132 [==============================] - 0s 166us/step - loss: 1.4580 - acc: 0.4242\n",
      "Epoch 11/100\n",
      "132/132 [==============================] - 0s 367us/step - loss: 1.4488 - acc: 0.4470\n",
      "Epoch 12/100\n",
      "132/132 [==============================] - 0s 197us/step - loss: 1.4420 - acc: 0.4470\n",
      "Epoch 13/100\n",
      "132/132 [==============================] - 0s 110us/step - loss: 1.4348 - acc: 0.4394\n",
      "Epoch 14/100\n",
      "132/132 [==============================] - 0s 101us/step - loss: 1.4287 - acc: 0.4318\n",
      "Epoch 15/100\n",
      "132/132 [==============================] - 0s 131us/step - loss: 1.4230 - acc: 0.4545\n",
      "Epoch 16/100\n",
      "132/132 [==============================] - 0s 98us/step - loss: 1.4175 - acc: 0.4773\n",
      "Epoch 17/100\n",
      "132/132 [==============================] - 0s 113us/step - loss: 1.4121 - acc: 0.4621\n",
      "Epoch 18/100\n",
      "132/132 [==============================] - 0s 234us/step - loss: 1.4063 - acc: 0.4621\n",
      "Epoch 19/100\n",
      "132/132 [==============================] - 0s 113us/step - loss: 1.4008 - acc: 0.4545\n",
      "Epoch 20/100\n",
      "132/132 [==============================] - 0s 98us/step - loss: 1.3946 - acc: 0.4394\n",
      "Epoch 21/100\n",
      "132/132 [==============================] - 0s 129us/step - loss: 1.3896 - acc: 0.4621\n",
      "Epoch 22/100\n",
      "132/132 [==============================] - 0s 98us/step - loss: 1.3833 - acc: 0.4697\n",
      "Epoch 23/100\n",
      "132/132 [==============================] - 0s 106us/step - loss: 1.3774 - acc: 0.4621\n",
      "Epoch 24/100\n",
      "132/132 [==============================] - 0s 144us/step - loss: 1.3720 - acc: 0.4621\n",
      "Epoch 25/100\n",
      "132/132 [==============================] - 0s 159us/step - loss: 1.3665 - acc: 0.4697\n",
      "Epoch 26/100\n",
      "132/132 [==============================] - 0s 272us/step - loss: 1.3607 - acc: 0.4848\n",
      "Epoch 27/100\n",
      "132/132 [==============================] - 0s 143us/step - loss: 1.3547 - acc: 0.4924\n",
      "Epoch 28/100\n",
      "132/132 [==============================] - 0s 318us/step - loss: 1.3483 - acc: 0.4924\n",
      "Epoch 29/100\n",
      "132/132 [==============================] - 0s 122us/step - loss: 1.3428 - acc: 0.5076\n",
      "Epoch 30/100\n",
      "132/132 [==============================] - 0s 136us/step - loss: 1.3351 - acc: 0.5000\n",
      "Epoch 31/100\n",
      "132/132 [==============================] - 0s 196us/step - loss: 1.3290 - acc: 0.5076\n",
      "Epoch 32/100\n",
      "132/132 [==============================] - 0s 136us/step - loss: 1.3213 - acc: 0.5152\n",
      "Epoch 33/100\n",
      "132/132 [==============================] - 0s 106us/step - loss: 1.3149 - acc: 0.5076\n",
      "Epoch 34/100\n",
      "132/132 [==============================] - 0s 128us/step - loss: 1.3076 - acc: 0.4924\n",
      "Epoch 35/100\n",
      "132/132 [==============================] - 0s 113us/step - loss: 1.3017 - acc: 0.5076\n",
      "Epoch 36/100\n",
      "132/132 [==============================] - 0s 121us/step - loss: 1.2942 - acc: 0.5076\n",
      "Epoch 37/100\n",
      "132/132 [==============================] - 0s 453us/step - loss: 1.2880 - acc: 0.5076\n",
      "Epoch 38/100\n",
      "132/132 [==============================] - ETA: 0s - loss: 1.4020 - acc: 0.437 - 0s 174us/step - loss: 1.2827 - acc: 0.5000\n",
      "Epoch 39/100\n",
      "132/132 [==============================] - 0s 121us/step - loss: 1.2774 - acc: 0.5076\n",
      "Epoch 40/100\n",
      "132/132 [==============================] - 0s 128us/step - loss: 1.2719 - acc: 0.5000\n",
      "Epoch 41/100\n",
      "132/132 [==============================] - 0s 113us/step - loss: 1.2665 - acc: 0.5000\n",
      "Epoch 42/100\n",
      "132/132 [==============================] - 0s 151us/step - loss: 1.2612 - acc: 0.5076\n",
      "Epoch 43/100\n",
      "132/132 [==============================] - 0s 242us/step - loss: 1.2552 - acc: 0.5303\n",
      "Epoch 44/100\n",
      "132/132 [==============================] - 0s 136us/step - loss: 1.2505 - acc: 0.5303\n",
      "Epoch 45/100\n",
      "132/132 [==============================] - 0s 113us/step - loss: 1.2452 - acc: 0.5303\n",
      "Epoch 46/100\n",
      "132/132 [==============================] - 0s 121us/step - loss: 1.2398 - acc: 0.5379\n",
      "Epoch 47/100\n",
      "132/132 [==============================] - 0s 113us/step - loss: 1.2344 - acc: 0.5303\n",
      "Epoch 48/100\n",
      "132/132 [==============================] - 0s 128us/step - loss: 1.2291 - acc: 0.5303\n",
      "Epoch 49/100\n",
      "132/132 [==============================] - 0s 136us/step - loss: 1.2244 - acc: 0.5379\n",
      "Epoch 50/100\n",
      "132/132 [==============================] - 0s 204us/step - loss: 1.2187 - acc: 0.5379\n",
      "Epoch 51/100\n",
      "132/132 [==============================] - 0s 121us/step - loss: 1.2130 - acc: 0.5379\n",
      "Epoch 52/100\n",
      "132/132 [==============================] - 0s 128us/step - loss: 1.2091 - acc: 0.5303\n",
      "Epoch 53/100\n",
      "132/132 [==============================] - 0s 113us/step - loss: 1.2052 - acc: 0.5152\n",
      "Epoch 54/100\n",
      "132/132 [==============================] - 0s 113us/step - loss: 1.2016 - acc: 0.5152\n",
      "Epoch 55/100\n",
      "132/132 [==============================] - 0s 128us/step - loss: 1.1976 - acc: 0.5152\n",
      "Epoch 56/100\n",
      "132/132 [==============================] - 0s 113us/step - loss: 1.1933 - acc: 0.5152\n",
      "Epoch 57/100\n",
      "132/132 [==============================] - 0s 113us/step - loss: 1.1886 - acc: 0.5152\n",
      "Epoch 58/100\n",
      "132/132 [==============================] - 0s 325us/step - loss: 1.1830 - acc: 0.5227\n",
      "Epoch 59/100\n",
      "132/132 [==============================] - 0s 234us/step - loss: 1.1782 - acc: 0.5379\n",
      "Epoch 60/100\n",
      "132/132 [==============================] - 0s 181us/step - loss: 1.1722 - acc: 0.5379\n",
      "Epoch 61/100\n",
      "132/132 [==============================] - 0s 181us/step - loss: 1.1660 - acc: 0.5455\n",
      "Epoch 62/100\n",
      "132/132 [==============================] - 0s 113us/step - loss: 1.1608 - acc: 0.5530\n",
      "Epoch 63/100\n",
      "132/132 [==============================] - ETA: 0s - loss: 1.1674 - acc: 0.500 - 0s 113us/step - loss: 1.1558 - acc: 0.5379\n",
      "Epoch 64/100\n",
      "132/132 [==============================] - 0s 136us/step - loss: 1.1511 - acc: 0.5379\n",
      "Epoch 65/100\n",
      "132/132 [==============================] - 0s 121us/step - loss: 1.1460 - acc: 0.5606\n",
      "Epoch 66/100\n",
      "132/132 [==============================] - 0s 128us/step - loss: 1.1408 - acc: 0.5606\n",
      "Epoch 67/100\n",
      "132/132 [==============================] - 0s 129us/step - loss: 1.1352 - acc: 0.5682\n",
      "Epoch 68/100\n",
      "132/132 [==============================] - 0s 113us/step - loss: 1.1296 - acc: 0.5682\n",
      "Epoch 69/100\n",
      "132/132 [==============================] - 0s 113us/step - loss: 1.1250 - acc: 0.5682\n",
      "Epoch 70/100\n",
      "132/132 [==============================] - ETA: 0s - loss: 0.9753 - acc: 0.687 - 0s 113us/step - loss: 1.1197 - acc: 0.5682\n",
      "Epoch 71/100\n",
      "132/132 [==============================] - 0s 121us/step - loss: 1.1150 - acc: 0.5682\n",
      "Epoch 72/100\n",
      "132/132 [==============================] - 0s 136us/step - loss: 1.1099 - acc: 0.5758\n",
      "Epoch 73/100\n",
      "132/132 [==============================] - 0s 106us/step - loss: 1.1039 - acc: 0.5758\n",
      "Epoch 74/100\n",
      "132/132 [==============================] - 0s 128us/step - loss: 1.0991 - acc: 0.5758\n",
      "Epoch 75/100\n",
      "132/132 [==============================] - 0s 340us/step - loss: 1.0938 - acc: 0.5833\n",
      "Epoch 76/100\n",
      "132/132 [==============================] - 0s 128us/step - loss: 1.0884 - acc: 0.5833\n",
      "Epoch 77/100\n",
      "132/132 [==============================] - 0s 128us/step - loss: 1.0826 - acc: 0.5833\n",
      "Epoch 78/100\n",
      "132/132 [==============================] - 0s 189us/step - loss: 1.0768 - acc: 0.5833\n",
      "Epoch 79/100\n",
      "132/132 [==============================] - 0s 113us/step - loss: 1.0708 - acc: 0.5758\n",
      "Epoch 80/100\n",
      "132/132 [==============================] - 0s 106us/step - loss: 1.0645 - acc: 0.5758\n",
      "Epoch 81/100\n",
      "132/132 [==============================] - 0s 113us/step - loss: 1.0594 - acc: 0.5833\n",
      "Epoch 82/100\n",
      "132/132 [==============================] - 0s 159us/step - loss: 1.0541 - acc: 0.5833\n",
      "Epoch 83/100\n",
      "132/132 [==============================] - 0s 136us/step - loss: 1.0479 - acc: 0.5833\n",
      "Epoch 84/100\n",
      "132/132 [==============================] - 0s 128us/step - loss: 1.0419 - acc: 0.5985\n",
      "Epoch 85/100\n",
      "132/132 [==============================] - 0s 227us/step - loss: 1.0355 - acc: 0.6061\n",
      "Epoch 86/100\n",
      "132/132 [==============================] - 0s 113us/step - loss: 1.0290 - acc: 0.5985\n",
      "Epoch 87/100\n",
      "132/132 [==============================] - 0s 144us/step - loss: 1.0233 - acc: 0.5985\n",
      "Epoch 88/100\n",
      "132/132 [==============================] - 0s 98us/step - loss: 1.0175 - acc: 0.5909\n",
      "Epoch 89/100\n",
      "132/132 [==============================] - 0s 136us/step - loss: 1.0108 - acc: 0.5985\n",
      "Epoch 90/100\n",
      "132/132 [==============================] - 0s 113us/step - loss: 1.0062 - acc: 0.6136\n",
      "Epoch 91/100\n",
      "132/132 [==============================] - 0s 121us/step - loss: 1.0003 - acc: 0.6288\n",
      "Epoch 92/100\n",
      "132/132 [==============================] - 0s 166us/step - loss: 0.9958 - acc: 0.6136\n",
      "Epoch 93/100\n",
      "132/132 [==============================] - 0s 257us/step - loss: 0.9892 - acc: 0.6212\n",
      "Epoch 94/100\n",
      "132/132 [==============================] - 0s 136us/step - loss: 0.9813 - acc: 0.6364\n",
      "Epoch 95/100\n",
      "132/132 [==============================] - 0s 121us/step - loss: 0.9735 - acc: 0.6439\n",
      "Epoch 96/100\n",
      "132/132 [==============================] - 0s 174us/step - loss: 0.9674 - acc: 0.6439\n",
      "Epoch 97/100\n",
      "132/132 [==============================] - 0s 151us/step - loss: 0.9614 - acc: 0.6364\n",
      "Epoch 98/100\n",
      "132/132 [==============================] - 0s 212us/step - loss: 0.9557 - acc: 0.6364\n",
      "Epoch 99/100\n",
      "132/132 [==============================] - 0s 136us/step - loss: 0.9503 - acc: 0.6439\n",
      "Epoch 100/100\n",
      "132/132 [==============================] - 0s 144us/step - loss: 0.9435 - acc: 0.6515\n"
     ]
    },
    {
     "data": {
      "text/plain": [
       "<keras.callbacks.History at 0x1bf468b3160>"
      ]
     },
     "execution_count": 228,
     "metadata": {},
     "output_type": "execute_result"
    }
   ],
   "source": [
    "model.fit(X_numbers,Y_onehot,epochs=100)"
   ]
  },
  {
   "cell_type": "code",
   "execution_count": 229,
   "metadata": {},
   "outputs": [
    {
     "name": "stdout",
     "output_type": "stream",
     "text": [
      "['congratulations', 'on', 'your', 'acceptance']\n"
     ]
    }
   ],
   "source": [
    "i = 7\n",
    "print(data[0][i])"
   ]
  },
  {
   "cell_type": "code",
   "execution_count": 239,
   "metadata": {},
   "outputs": [],
   "source": [
    "output = np.argmax(model.predict(X_numbers),axis=1)"
   ]
  },
  {
   "cell_type": "code",
   "execution_count": 241,
   "metadata": {},
   "outputs": [
    {
     "name": "stdout",
     "output_type": "stream",
     "text": [
      "0    3\n",
      "1    2\n",
      "2    3\n",
      "3    0\n",
      "4    4\n",
      "5    0\n",
      "6    3\n",
      "7    2\n",
      "8    3\n",
      "9    1\n",
      "Name: 1, dtype: int64\n"
     ]
    }
   ],
   "source": [
    "print(Y_train[:10])"
   ]
  },
  {
   "cell_type": "code",
   "execution_count": 244,
   "metadata": {},
   "outputs": [
    {
     "data": {
      "text/plain": [
       "86"
      ]
     },
     "execution_count": 244,
     "metadata": {},
     "output_type": "execute_result"
    }
   ],
   "source": [
    "np.sum(output==Y_train)"
   ]
  },
  {
   "cell_type": "code",
   "execution_count": 261,
   "metadata": {},
   "outputs": [
    {
     "name": "stdout",
     "output_type": "stream",
     "text": [
      "(50,)\n",
      "(1, 50)\n"
     ]
    }
   ],
   "source": [
    "text = \"i love this movie\"\n",
    "\n",
    "avg_v = avg_vector(text.split())\n",
    "print(avg_v.shape)\n",
    "avg_v= avg_v.reshape(1,50)\n",
    "print(avg_v.shape)"
   ]
  },
  {
   "cell_type": "code",
   "execution_count": 262,
   "metadata": {},
   "outputs": [],
   "source": [
    "emoji_label_predict = np.argmax(model.predict(avg_v))"
   ]
  },
  {
   "cell_type": "code",
   "execution_count": 263,
   "metadata": {},
   "outputs": [
    {
     "name": "stdout",
     "output_type": "stream",
     "text": [
      "2\n",
      "😁\n"
     ]
    }
   ],
   "source": [
    "print(emoji_label_predict)\n",
    "print(emoji.emojize(emoji_dict[emoji_label_predict]))"
   ]
  },
  {
   "cell_type": "code",
   "execution_count": null,
   "metadata": {},
   "outputs": [],
   "source": []
  },
  {
   "cell_type": "code",
   "execution_count": null,
   "metadata": {},
   "outputs": [],
   "source": []
  },
  {
   "cell_type": "code",
   "execution_count": null,
   "metadata": {},
   "outputs": [],
   "source": []
  },
  {
   "cell_type": "code",
   "execution_count": null,
   "metadata": {},
   "outputs": [],
   "source": []
  },
  {
   "cell_type": "code",
   "execution_count": null,
   "metadata": {},
   "outputs": [],
   "source": []
  },
  {
   "cell_type": "code",
   "execution_count": null,
   "metadata": {},
   "outputs": [],
   "source": []
  },
  {
   "cell_type": "code",
   "execution_count": null,
   "metadata": {},
   "outputs": [],
   "source": []
  }
 ],
 "metadata": {
  "kernelspec": {
   "display_name": "Python 3",
   "language": "python",
   "name": "python3"
  },
  "language_info": {
   "codemirror_mode": {
    "name": "ipython",
    "version": 3
   },
   "file_extension": ".py",
   "mimetype": "text/x-python",
   "name": "python",
   "nbconvert_exporter": "python",
   "pygments_lexer": "ipython3",
   "version": "3.6.7"
  }
 },
 "nbformat": 4,
 "nbformat_minor": 2
}
