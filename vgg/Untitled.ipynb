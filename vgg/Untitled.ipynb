{
 "cells": [
  {
   "cell_type": "code",
   "execution_count": 1,
   "metadata": {},
   "outputs": [],
   "source": [
    "import numpy as np\n",
    "import matplotlib.pyplot as plt\n",
    "import pandas as pd"
   ]
  },
  {
   "cell_type": "code",
   "execution_count": 2,
   "metadata": {},
   "outputs": [
    {
     "name": "stderr",
     "output_type": "stream",
     "text": [
      "Using TensorFlow backend.\n"
     ]
    }
   ],
   "source": [
    "from keras.models import Model,Sequential\n",
    "from keras.layers import Input,Convolution2D,MaxPooling2D,Flatten,Dense,Dropout,BatchNormalization\n",
    "from keras.utils import np_utils\n",
    "from keras.optimizers import Adam\n",
    "from keras.preprocessing import image"
   ]
  },
  {
   "cell_type": "code",
   "execution_count": 4,
   "metadata": {},
   "outputs": [],
   "source": [
    "X_train = np.load(\"../alexnet/X_train.npy\")\n",
    "Y_train = np.load(\"../alexnet/Y_train.npy\")\n",
    "X_test  = np.load(\"../alexnet/X_test.npy\")\n",
    "Y_train = np_utils.to_categorical(Y_train)\n"
   ]
  },
  {
   "cell_type": "code",
   "execution_count": 5,
   "metadata": {},
   "outputs": [],
   "source": [
    "X_train = X_train/255\n",
    "X_test = X_test/255"
   ]
  },
  {
   "cell_type": "code",
   "execution_count": 6,
   "metadata": {},
   "outputs": [
    {
     "name": "stdout",
     "output_type": "stream",
     "text": [
      "(1252, 227, 227, 3) (1252, 10) (313, 227, 227, 3)\n"
     ]
    }
   ],
   "source": [
    "print(X_train.shape,Y_train.shape,X_test.shape)"
   ]
  },
  {
   "cell_type": "code",
   "execution_count": null,
   "metadata": {},
   "outputs": [],
   "source": [
    "model = Sequential()\n",
    "model.add(Convolution2D(96,(11,11),activation='relu',strides=4, input_shape=(227, 227, 3)))\n",
    "model.add(MaxPooling2D(pool_size=(3,3),strides=2))\n",
    "model.add(BatchNormalization())\n",
    "model.add(Convolution2D(256,(5,5),activation='relu',strides=1,padding=\"same\"))\n",
    "model.add(MaxPooling2D(pool_size=(3,3),strides=2))\n",
    "model.add(BatchNormalization())\n",
    "model.add(Convolution2D(384,(3,3),activation='relu',strides=1,padding=\"same\"))\n",
    "model.add(Convolution2D(384,(3,3),activation='relu',strides=1,padding=\"same\"))\n",
    "model.add(Convolution2D(256,(3,3),activation='relu',strides=1,padding=\"same\"))\n",
    "model.add(MaxPooling2D(pool_size=(3,3),strides=2))\n",
    "model.add(Flatten())"
   ]
  },
  {
   "cell_type": "code",
   "execution_count": null,
   "metadata": {},
   "outputs": [],
   "source": [
    "model = Sequential()\n",
    "model.add(Convolution2D(64,(3,3),activation='relu',strides=4, input_shape=(227, 227, 3)))\n",
    "model.add(Convolution2D(64,(3,3),activation='relu',padding=\"same\"))\n",
    "model.add(MaxPooling2D(pool_size=(3,3)))\n"
   ]
  },
  {
   "cell_type": "code",
   "execution_count": null,
   "metadata": {},
   "outputs": [],
   "source": []
  },
  {
   "cell_type": "code",
   "execution_count": null,
   "metadata": {},
   "outputs": [],
   "source": []
  }
 ],
 "metadata": {
  "kernelspec": {
   "display_name": "Python 3",
   "language": "python",
   "name": "python3"
  },
  "language_info": {
   "codemirror_mode": {
    "name": "ipython",
    "version": 3
   },
   "file_extension": ".py",
   "mimetype": "text/x-python",
   "name": "python",
   "nbconvert_exporter": "python",
   "pygments_lexer": "ipython3",
   "version": "3.6.7"
  }
 },
 "nbformat": 4,
 "nbformat_minor": 2
}
